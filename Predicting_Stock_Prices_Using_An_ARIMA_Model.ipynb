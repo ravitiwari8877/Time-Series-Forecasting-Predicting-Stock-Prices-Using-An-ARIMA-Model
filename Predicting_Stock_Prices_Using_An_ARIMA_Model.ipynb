{
  "nbformat": 4,
  "nbformat_minor": 0,
  "metadata": {
    "colab": {
      "private_outputs": true,
      "provenance": []
    },
    "kernelspec": {
      "name": "python3",
      "display_name": "Python 3"
    },
    "language_info": {
      "name": "python"
    }
  },
  "cells": [
    {
      "cell_type": "markdown",
      "source": [
        "**The AutoRegressive Integrated Moving Average (ARIMA) model**\n",
        "\n",
        "A famous and widely used forecasting method for time-series prediction is the AutoRegressive Integrated Moving Average (ARIMA) model. ARIMA models are capable of capturing a suite of different standard temporal structures in time-series data.\n",
        "\n",
        "**Terminology** : \n",
        "Let’s break down these terms:\n",
        "\n",
        "\n",
        "\n",
        "*   **AR: < Auto Regressive >** means that the model uses the dependent relationship between an observation and some predefined number of lagged observations (also known as “time lag” or “lag”). \n",
        "*   **I:< Integrated >** means that the model employs differencing of raw observations (e.g. it subtracts an observation from an observation at the previous time step) in order to make the time-series stationary.MA:\n",
        "\n",
        "*   **MA: < Moving Average >** means that the model exploits the relationship between the residual error and the observations.\n",
        "\n",
        "**Model parameters**\n",
        "\n",
        "-- The standard ARIMA models expect as input parameters 3 arguments i.e. p,d,q.\n",
        "\n",
        "* p is the number of lag observations.\n",
        "* d is the degree of differencing.\n",
        "* q is the size/width of the moving average window."
      ],
      "metadata": {
        "id": "a3vcMeWWpZug"
      }
    },
    {
      "cell_type": "code",
      "source": [
        "# Importing Required Lib\n",
        "\n",
        "import numpy as np \n",
        "import pandas as pd \n",
        "import matplotlib.pyplot as plt\n",
        "from pandas.plotting import lag_plot\n",
        "from pandas import datetime\n",
        "from statsmodels.tsa.arima_model import ARIMA\n",
        "from sklearn.metrics import mean_squared_error"
      ],
      "metadata": {
        "id": "tusEy_bjq8f6"
      },
      "execution_count": null,
      "outputs": []
    },
    {
      "cell_type": "code",
      "source": [
        "# Read the data\n",
        "df = pd.read_csv(\"/content/drive/MyDrive/Colab Notebooks/Time Series/TATAMOTORS.NS.csv\")\n",
        "df.head(5)"
      ],
      "metadata": {
        "id": "SCRyEtCgq8ix"
      },
      "execution_count": null,
      "outputs": []
    },
    {
      "cell_type": "markdown",
      "source": [
        "**About the Data**\n",
        "\n",
        "\n",
        "*   Stock Name: **Tata Motors Limited (TATAMOTORS.NS)**\n",
        "*   Period: 5 year (May 31, 2018 - May 31, 2023)\n",
        "*   Attribute: Date, Open, High, Low, Adj Close and Volume\n",
        "*   Target: Our target variable will be the **Close** value\n",
        "\n",
        "\n",
        "\n"
      ],
      "metadata": {
        "id": "Of3KYpzFrVQx"
      }
    },
    {
      "cell_type": "code",
      "source": [
        "# let’s see if there is some cross-correlation in out data.\n",
        "plt.figure()\n",
        "lag_plot(df['Open'], lag=3)\n",
        "plt.title('Tata Motors Limited Stock - Autocorrelation plot with lag = 3')\n",
        "plt.show()"
      ],
      "metadata": {
        "id": "h_mjjJd4q8lp"
      },
      "execution_count": null,
      "outputs": []
    },
    {
      "cell_type": "markdown",
      "source": [
        "**there is auto-correlation in the data**"
      ],
      "metadata": {
        "id": "0vjKhCsXs8_t"
      }
    },
    {
      "cell_type": "code",
      "source": [
        "# let’s plot the stock price evolution over time.\n",
        "plt.figure(figsize = (15,5))\n",
        "plt.plot(df[\"Date\"], df[\"Close\"])\n",
        "plt.xticks(np.arange(0,1259, 200), df['Date'][0:1259:200])\n",
        "plt.title(\"Tata Motors Limited stock price over time\")\n",
        "plt.xlabel(\"time\")\n",
        "plt.ylabel(\"price\")\n",
        "plt.show()"
      ],
      "metadata": {
        "id": "dpe0XPJNsyHl"
      },
      "execution_count": null,
      "outputs": []
    },
    {
      "cell_type": "code",
      "source": [
        "# Preprocess the data\n",
        "df['Date'] = pd.to_datetime(df['Date'])  # Convert 'Date' column to datetime format\n",
        "df = df.dropna()  # Drop rows with missing values or use appropriate technique to handle them"
      ],
      "metadata": {
        "id": "81GrnCLJDgKL"
      },
      "execution_count": null,
      "outputs": []
    },
    {
      "cell_type": "code",
      "source": [
        "# Fit the ARIMA model\n",
        "import statsmodels.api as sm\n",
        "train_data, test_data = df[0:int(len(df)*0.7)], df[int(len(df)*0.7):]\n",
        "training_data = train_data['Close'].values\n",
        "test_data = test_data['Close'].values\n",
        "history = [x for x in training_data]\n",
        "model_predictions = []\n",
        "N_test_observations = len(test_data)\n",
        "for time_point in range(N_test_observations):\n",
        "    model = sm.tsa.arima.ARIMA(history, order=(4,1,0))\n",
        "    model_fit = model.fit()\n",
        "    output = model_fit.forecast()\n",
        "    yhat = output[0]\n",
        "    model_predictions.append(yhat)\n",
        "    true_test_value = test_data[time_point]\n",
        "    history.append(true_test_value)\n",
        "MSE_error = mean_squared_error(test_data, model_predictions)\n",
        "print('Testing Mean Squared Error is {}'.format(MSE_error))"
      ],
      "metadata": {
        "id": "ztuNkO7KE5WL"
      },
      "execution_count": null,
      "outputs": []
    },
    {
      "cell_type": "markdown",
      "source": [
        "The MSE of the test set is quite large denoting that the precise prediction is a hard problem. However, this is the average squared value across all the test set predictions. \n",
        "\n",
        "Let’s visualize the predictions to understand the performance of the model more."
      ],
      "metadata": {
        "id": "mn3vuU3DGaRp"
      }
    },
    {
      "cell_type": "code",
      "source": [
        "test_set_range = df[int(len(df)*0.7):].index\n",
        "plt.figure(figsize = (30,5))\n",
        "plt.plot(test_set_range, model_predictions, color='black', marker='+', linestyle='dashed',label='Predicted Price')\n",
        "plt.plot(test_set_range, test_data, color='red', label='Actual Price')\n",
        "plt.title('Tata Motor Limited Prices Prediction')\n",
        "plt.xlabel('Date')\n",
        "plt.ylabel('Prices')\n",
        "plt.xticks(np.arange(881,1259,50), df.Date[881:1259:50])\n",
        "plt.legend()\n",
        "plt.show()"
      ],
      "metadata": {
        "id": "UBeJ4TpHFIeN"
      },
      "execution_count": null,
      "outputs": []
    },
    {
      "cell_type": "markdown",
      "source": [
        "Deep Learning Model "
      ],
      "metadata": {
        "id": "nW1y7fV4HjOq"
      }
    },
    {
      "cell_type": "code",
      "source": [
        "from sklearn.preprocessing import MinMaxScaler\n",
        "from tensorflow.keras.models import Sequential\n",
        "from tensorflow.keras.layers import LSTM, Dense"
      ],
      "metadata": {
        "id": "9KHyCJ9-FoZ-"
      },
      "execution_count": null,
      "outputs": []
    },
    {
      "cell_type": "code",
      "source": [
        "df.set_index('Date', inplace=True)  # Set 'Date' column as the index\n",
        "data = df['Close'].values  # Extract the 'Close' column as the target variable"
      ],
      "metadata": {
        "id": "Lrslr7TbH9z5"
      },
      "execution_count": null,
      "outputs": []
    },
    {
      "cell_type": "code",
      "source": [
        "# Normalize the data:\n",
        "scaler = MinMaxScaler(feature_range=(0, 1))\n",
        "scaled_data = scaler.fit_transform(data.reshape(-1, 1))"
      ],
      "metadata": {
        "id": "p1cBaeV3Hs4u"
      },
      "execution_count": null,
      "outputs": []
    },
    {
      "cell_type": "code",
      "source": [
        "#Split the data into training and testing sets:\n",
        "\n",
        "train_size = int(len(scaled_data) * 0.8)\n",
        "train_data = scaled_data[:train_size]\n",
        "test_data = scaled_data[train_size:]"
      ],
      "metadata": {
        "id": "pot1jCSIH_wi"
      },
      "execution_count": null,
      "outputs": []
    },
    {
      "cell_type": "code",
      "source": [
        "# Create input sequences:\n",
        "\n",
        "def create_sequences(data, seq_length):\n",
        "    X = []\n",
        "    y = []\n",
        "    for i in range(len(data) - seq_length):\n",
        "        X.append(data[i:i + seq_length])\n",
        "        y.append(data[i + seq_length])\n",
        "    return np.array(X), np.array(y)\n",
        "\n",
        "seq_length = 10  # Number of previous time steps to use as input\n",
        "X_train, y_train = create_sequences(train_data, seq_length)\n",
        "X_test, y_test = create_sequences(test_data, seq_length)"
      ],
      "metadata": {
        "id": "Z4bzFfNUIFo5"
      },
      "execution_count": null,
      "outputs": []
    },
    {
      "cell_type": "code",
      "source": [
        "# Build the LSTM model:\n",
        "\n",
        "model = Sequential()\n",
        "model.add(LSTM(units=50, return_sequences=True, input_shape=(seq_length, 1)))\n",
        "model.add(LSTM(units=50))\n",
        "model.add(Dense(units=1))\n",
        "model.compile(optimizer='adam', loss='mean_squared_error')\n",
        "model.fit(X_train, y_train, epochs=10, batch_size=32)"
      ],
      "metadata": {
        "id": "hC3AaUdpIJsn"
      },
      "execution_count": null,
      "outputs": []
    },
    {
      "cell_type": "code",
      "source": [
        "# Make predictions:\n",
        "\n",
        "y_pred = model.predict(X_test)"
      ],
      "metadata": {
        "id": "yCsTFJHdIN4C"
      },
      "execution_count": null,
      "outputs": []
    },
    {
      "cell_type": "code",
      "source": [
        "# Inverse the scaling:\n",
        "\n",
        "y_pred = scaler.inverse_transform(y_pred)\n",
        "y_test = scaler.inverse_transform(y_test)"
      ],
      "metadata": {
        "id": "hBCTdHp7IUyE"
      },
      "execution_count": null,
      "outputs": []
    },
    {
      "cell_type": "code",
      "source": [
        "# Evaluate the model:\n",
        "\n",
        "mse = mean_squared_error(y_test, y_pred)\n",
        "rmse = np.sqrt(mse)\n",
        "print(f\"Root Mean Squared Error (RMSE): {rmse}\")"
      ],
      "metadata": {
        "id": "p2mB5GgWIYYQ"
      },
      "execution_count": null,
      "outputs": []
    },
    {
      "cell_type": "code",
      "source": [
        "import matplotlib.pyplot as plt\n",
        "\n",
        "# Convert the dates to the appropriate format\n",
        "test_dates = pd.to_datetime(df.iloc[train_size+seq_length:].index)"
      ],
      "metadata": {
        "id": "HEIOvqsyIcYP"
      },
      "execution_count": null,
      "outputs": []
    },
    {
      "cell_type": "code",
      "source": [
        "# Plot the actual and predicted prices\n",
        "plt.figure(figsize=(15, 5))\n",
        "plt.plot(test_dates, y_test, color='red', label='Actual Price')\n",
        "plt.plot(test_dates, y_pred, color='black', linestyle='dashed', label='Predicted Price')\n",
        "plt.title('Tata Motor Limited Prices Prediction')\n",
        "plt.xlabel('Date')\n",
        "plt.ylabel('Prices')\n",
        "plt.xticks(rotation=45)\n",
        "plt.legend()\n",
        "plt.show()"
      ],
      "metadata": {
        "id": "3-vuV7W5LGOL"
      },
      "execution_count": null,
      "outputs": []
    }
  ]
}